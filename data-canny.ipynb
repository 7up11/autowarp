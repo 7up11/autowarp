{
 "cells": [
  {
   "cell_type": "code",
   "execution_count": null,
   "id": "885d5242-55ac-45ad-b511-97a12eaa0e27",
   "metadata": {},
   "outputs": [],
   "source": [
    "from pathlib import Path\n",
    "from matplotlib import pyplot as plt\n",
    "import numpy as np\n",
    "import seaborn as sns\n",
    "import shutil\n",
    "import cv2"
   ]
  },
  {
   "cell_type": "code",
   "execution_count": null,
   "id": "c64bd6ad-f910-47d4-b171-599494f272b0",
   "metadata": {},
   "outputs": [],
   "source": [
    "def random_shape():\n",
    "    x1, y1 = np.random.uniform(high=0.6, size=2)\n",
    "    x2, y2 = np.random.uniform(low=0.3, size=2) * (1 - x1, 1 - y1) + (x1, y1)\n",
    "    bounded_normal = np.clip(np.random.normal(loc=3, size=4) / 6, min=0, max=1)\n",
    "    length = bounded_normal * np.array([x2 - x1, y2 - y1, x2 - x1, y2 - y1])\n",
    "    points = np.array([\n",
    "        [x1 + length[0], y1],\n",
    "        [x2, y1 + length[1]],\n",
    "        [x1 + length[2], y2],\n",
    "        [x1, y1 + length[3]]\n",
    "    ])\n",
    "    return points\n",
    "\n",
    "def lines(points, w, h):\n",
    "    return (points * (w, h)).astype(int)\n",
    "\n",
    "def random_colour():\n",
    "    return np.random.randint(low=0, high=32, size=3).tolist()\n",
    "\n",
    "def generate(n, backgrounds_path, images_path, labels_path):\n",
    "    backgrounds = list(backgrounds_path.glob(\"*.jpg\"))\n",
    "    for i in range(1, n + 1):\n",
    "        image = cv2.imread(np.random.choice(backgrounds))\n",
    "        h, w, _ = image.shape\n",
    "        shape = random_shape()\n",
    "        image = cv2.Canny(image, 100, 200)\n",
    "        image = cv2.polylines(image, [lines(shape, w, h)], True, (255, 255, 255), 2)\n",
    "        cv2.imwrite(images_path / f\"{i}.jpeg\", image)\n",
    "        with open(labels_path / f\"{i}.txt\", \"w\") as f:\n",
    "            strings = map(str, np.ravel(shape).tolist())\n",
    "            f.write(f\"0 {' '.join(strings)}\\n\")"
   ]
  },
  {
   "cell_type": "code",
   "execution_count": null,
   "id": "68f13dc9-bb27-41c3-b87e-1234173f9736",
   "metadata": {},
   "outputs": [],
   "source": [
    "dataset_path = Path(\"datasets/random\")\n",
    "backgrounds_path = Path(\"datasets/coco2017/images/val\")\n",
    "\n",
    "if dataset_path.exists():\n",
    "    shutil.rmtree(dataset_path)\n",
    "for n, path in [(1e4, \"train\"), (1e3, \"val\")]:\n",
    "    images_path = dataset_path / \"images\" / path\n",
    "    labels_path = dataset_path / \"labels\" / path\n",
    "    images_path.mkdir(parents=True)\n",
    "    labels_path.mkdir(parents=True)\n",
    "    generate(int(n), backgrounds_path, images_path, labels_path)"
   ]
  },
  {
   "cell_type": "code",
   "execution_count": null,
   "id": "a51df60b-3712-4a20-a6e3-017ce09d5dcb",
   "metadata": {},
   "outputs": [],
   "source": []
  }
 ],
 "metadata": {
  "kernelspec": {
   "display_name": "Python 3 (ipykernel)",
   "language": "python",
   "name": "python3"
  },
  "language_info": {
   "codemirror_mode": {
    "name": "ipython",
    "version": 3
   },
   "file_extension": ".py",
   "mimetype": "text/x-python",
   "name": "python",
   "nbconvert_exporter": "python",
   "pygments_lexer": "ipython3",
   "version": "3.12.9"
  }
 },
 "nbformat": 4,
 "nbformat_minor": 5
}
