{
 "cells": [
  {
   "cell_type": "code",
   "execution_count": null,
   "id": "4ab77e2b-0ec1-435d-bc81-d2c2e3a383a9",
   "metadata": {},
   "outputs": [],
   "source": [
    "import cv2 as cv\n",
    "import numpy as np\n",
    "from ultralytics import YOLO\n",
    "from matplotlib import pyplot as plt\n",
    "from scipy.spatial.distance import euclidean\n",
    "import math"
   ]
  },
  {
   "cell_type": "code",
   "execution_count": null,
   "id": "f851a3b1-301c-4655-982f-146035238507",
   "metadata": {},
   "outputs": [],
   "source": [
    "# Credit: ChatGPT\n",
    "def perpendicular_distance(point, start, end):\n",
    "    \"\"\"Calculate the perpendicular distance from a point to a line segment.\"\"\"\n",
    "    if np.all(start == end):\n",
    "        return euclidean(point, start)\n",
    "    \n",
    "    line_vec = end - start\n",
    "    point_vec = point - start\n",
    "    line_len = np.dot(line_vec, line_vec)\n",
    "    t = max(0, min(1, np.dot(point_vec, line_vec) / line_len))\n",
    "    projection = start + t * line_vec\n",
    "    return euclidean(point, projection)\n",
    "\n",
    "# Credit: ChatGPT\n",
    "def rdp(contour, epsilon):\n",
    "    \"\"\"\n",
    "    Applies the Ramer-Douglas-Peucker (RDP) algorithm to simplify a contour.\n",
    "    \n",
    "    Parameters:\n",
    "        contour (np.ndarray): A Nx2 array of (x, y) coordinates.\n",
    "        epsilon (float): Tolerance for point reduction (higher -> more aggressive).\n",
    "    \n",
    "    Returns:\n",
    "        np.ndarray: Simplified contour as a Nx2 array.\n",
    "    \"\"\"\n",
    "    if len(contour) < 3:\n",
    "        return contour\n",
    "\n",
    "    # Find the point with the maximum perpendicular distance\n",
    "    start, end = contour[0], contour[-1]\n",
    "    distances = np.array([perpendicular_distance(p, start, end) for p in contour[1:-1]])\n",
    "    \n",
    "    max_idx = np.argmax(distances)\n",
    "    max_dist = distances[max_idx]\n",
    "    \n",
    "    if max_dist > epsilon:\n",
    "        max_idx += 1  # Offset for skipping the first point\n",
    "        # Recursive RDP on both segments\n",
    "        left = rdp(contour[:max_idx+1], epsilon)\n",
    "        right = rdp(contour[max_idx:], epsilon)\n",
    "        return np.vstack((left[:-1], right))\n",
    "    else:\n",
    "        return np.array([start, end])"
   ]
  },
  {
   "cell_type": "code",
   "execution_count": null,
   "id": "1d3efba5-f51e-4624-9c4f-433b538c8f5e",
   "metadata": {},
   "outputs": [],
   "source": [
    "def simplify(contour):\n",
    "    points = contour.shape[0]\n",
    "    if points == 4:\n",
    "        return contour\n",
    "    full_area = cv.contourArea(contour)\n",
    "    d_min = math.inf\n",
    "    point_min = None\n",
    "    for point in range(points):\n",
    "        area = cv.contourArea(np.delete(contour, point, axis=0))\n",
    "        if (d := abs(full_area - area)) <= d_min:\n",
    "            d_min = d\n",
    "            point_min = point\n",
    "    if point_min is None:\n",
    "        raise ValueError(\"That's cool I guess.\")\n",
    "    return simplify(np.delete(contour, point_min, axis=0))\n",
    "\n",
    "def warp(src, src_quad, dst_quad):\n",
    "    h, _ = cv.findHomography(dst_quad, src_quad)\n",
    "    _, _, w_dst, h_dst = cv.boundingRect(dst_quad)\n",
    "    return cv.warpPerspective(src, h, (w_dst, h_dst), flags=cv.INTER_LINEAR + cv.WARP_INVERSE_MAP)\n",
    "\n",
    "def normal_to_image(image_shape, contour):\n",
    "    h, w, _ = image_shape\n",
    "    return (contour * (w, h)).astype(int)"
   ]
  },
  {
   "cell_type": "code",
   "execution_count": null,
   "id": "8b7ec287-f405-4290-9722-4dd0f4db3a4c",
   "metadata": {},
   "outputs": [],
   "source": [
    "image = \"datasets/coco2017/val/images/000000195918.jpg\"\n",
    "result = YOLO(\"runs/segment/filtered-5e/weights/best.pt\")(image)[0]\n",
    "masks = YOLO(\"runs/segment/filtered-5e/weights/best.pt\")(image)[0].masks.xyn\n",
    "image = cv.imread(image)\n",
    "contours = [\n",
    "    normal_to_image(image.shape, simplify(rdp(mask, 0.01))) for mask in masks\n",
    "]\n",
    "\n",
    "for i, contour in enumerate(contours):\n",
    "    image = cv.polylines(image, [contour], True, (255, 0, 0))\n",
    "    image = cv.putText(image, str(i), contour[0], cv.FONT_HERSHEY_SIMPLEX, 1, (255, 0, 0))\n",
    "plt.imshow(image)"
   ]
  },
  {
   "cell_type": "code",
   "execution_count": null,
   "id": "2fb3b1a8-4503-421c-a83f-99c080b6214a",
   "metadata": {},
   "outputs": [],
   "source": [
    "dst = np.array([[0, 0], [0, 300], [500, 300], [500, 0]])\n",
    "plt.imshow(warp(image, contours[2], dst))"
   ]
  },
  {
   "cell_type": "code",
   "execution_count": null,
   "id": "4e824397-819e-4217-9df6-0d0158d3bc88",
   "metadata": {},
   "outputs": [],
   "source": []
  }
 ],
 "metadata": {
  "kernelspec": {
   "display_name": "Python 3 (ipykernel)",
   "language": "python",
   "name": "python3"
  },
  "language_info": {
   "codemirror_mode": {
    "name": "ipython",
    "version": 3
   },
   "file_extension": ".py",
   "mimetype": "text/x-python",
   "name": "python",
   "nbconvert_exporter": "python",
   "pygments_lexer": "ipython3",
   "version": "3.12.9"
  }
 },
 "nbformat": 4,
 "nbformat_minor": 5
}
