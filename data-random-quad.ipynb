{
 "cells": [
  {
   "cell_type": "code",
   "execution_count": null,
   "id": "885d5242-55ac-45ad-b511-97a12eaa0e27",
   "metadata": {},
   "outputs": [],
   "source": [
    "from pathlib import Path\n",
    "from matplotlib import pyplot as plt\n",
    "from concurrent.futures import ThreadPoolExecutor\n",
    "import numpy as np\n",
    "import shutil\n",
    "import cv2 as cv"
   ]
  },
  {
   "cell_type": "code",
   "execution_count": null,
   "id": "c64bd6ad-f910-47d4-b171-599494f272b0",
   "metadata": {},
   "outputs": [],
   "source": [
    "def random_shape(xy1max, xy2min):\n",
    "    x1, y1 = np.random.uniform(high=xy1max, size=2)\n",
    "    x2, y2 = np.random.uniform(low=xy2min, size=2) * (1 - x1, 1 - y1) + (x1, y1)\n",
    "    bounded_normal = np.clip(np.random.normal(loc=3, size=4) / 6, min=0, max=1)\n",
    "    length = bounded_normal * np.array([x2 - x1, y2 - y1, x2 - x1, y2 - y1])\n",
    "    points = np.array([\n",
    "        [x1 + length[0], y1],\n",
    "        [x2, y1 + length[1]],\n",
    "        [x1 + length[2], y2],\n",
    "        [x1, y1 + length[3]]\n",
    "    ])\n",
    "    return points\n",
    "\n",
    "def normal_to_image(image_shape, points):\n",
    "    h, w, *_ = image_shape\n",
    "    return (points * (w, h)).astype(int)\n",
    "\n",
    "def random_colour(min_, max_):\n",
    "    return np.random.randint(low=min_, high=max_, size=3).tolist()\n",
    "\n",
    "def generate_image(background_path, dataset_path, image_name, xy1max, xy2min, crange, canny=None):\n",
    "    image = cv.imread(background_path)\n",
    "    points = random_shape(xy1max, xy2min)\n",
    "    if canny:\n",
    "        image = cv.Canny(image, canny[0], canny[1])\n",
    "    image = cv.polylines(image, [normal_to_image(image.shape, points)], True, random_colour(crange[0], crange[1]), 2)\n",
    "    cv.imwrite(dataset_path / \"images\" / f\"{image_name}.jpeg\", image)\n",
    "    with open(dataset_path / \"labels\" / f\"{image_name}.txt\", \"w\") as f:\n",
    "        lines = map(str, np.ravel(points).tolist())\n",
    "        f.write(f\"0 {' '.join(lines)}\\n\")\n",
    "\n",
    "def equal_ranges(n, total_n):\n",
    "    if total_n < n:\n",
    "        raise ValueError()\n",
    "    range_len = total_n // n\n",
    "    remainder = total_n % n\n",
    "    ranges = [range(range_len * i, range_len * (i + 1)) for i in range(n)]\n",
    "    if remainder > 0:\n",
    "        ranges[-1] = range(range_len * (n - 1), range_len * n + remainder)\n",
    "    return ranges"
   ]
  },
  {
   "cell_type": "code",
   "execution_count": null,
   "id": "68f13dc9-bb27-41c3-b87e-1234173f9736",
   "metadata": {},
   "outputs": [],
   "source": [
    "backgrounds = list(Path(\"datasets/coco2017/train/images\").glob(\"*.jpg\"))\n",
    "dataset_path = Path(\"datasets/canny-random-quad/train\")\n",
    "dataset_num = 10000\n",
    "chunks = 40\n",
    "\n",
    "def generate_images(ids):\n",
    "    for i in ids:\n",
    "        background = backgrounds[np.random.randint(0, len(backgrounds))]  # Don't use np.random.choice, slow for some reason.\n",
    "        generate_image(background, dataset_path, str(i), 0.6, 0.3, (255, 256), canny=(100, 200))\n",
    "\n",
    "if dataset_path.exists():\n",
    "    shutil.rmtree(dataset_path)\n",
    "(dataset_path / \"images\").mkdir(parents=True)\n",
    "(dataset_path / \"labels\").mkdir(parents=True)\n",
    "with ThreadPoolExecutor(max_workers=chunks) as executor:\n",
    "    ranges = equal_ranges(chunks, dataset_num)\n",
    "    futures = [executor.submit(generate_images, r) for r in ranges]\n",
    "    for future in futures:\n",
    "        future.result()"
   ]
  },
  {
   "cell_type": "code",
   "execution_count": null,
   "id": "b486a966-e987-41ab-b26e-70799fc27d26",
   "metadata": {},
   "outputs": [],
   "source": []
  }
 ],
 "metadata": {
  "kernelspec": {
   "display_name": "Python 3 (ipykernel)",
   "language": "python",
   "name": "python3"
  },
  "language_info": {
   "codemirror_mode": {
    "name": "ipython",
    "version": 3
   },
   "file_extension": ".py",
   "mimetype": "text/x-python",
   "name": "python",
   "nbconvert_exporter": "python",
   "pygments_lexer": "ipython3",
   "version": "3.12.9"
  }
 },
 "nbformat": 4,
 "nbformat_minor": 5
}
