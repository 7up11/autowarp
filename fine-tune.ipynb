{
 "cells": [
  {
   "cell_type": "code",
   "execution_count": null,
   "id": "8118a8d0-6866-4340-806d-bdcd98f77e49",
   "metadata": {},
   "outputs": [],
   "source": [
    "from ultralytics import YOLO\n",
    "from torch import nn\n",
    "from torchinfo import summary\n",
    "from matplotlib import pyplot as plt\n",
    "import torch\n",
    "import cv2 as cv"
   ]
  },
  {
   "cell_type": "code",
   "execution_count": null,
   "id": "104fdb37-4d51-495e-85ea-abf20c710cba",
   "metadata": {},
   "outputs": [],
   "source": [
    "torch.accelerator.current_accelerator()"
   ]
  },
  {
   "cell_type": "code",
   "execution_count": null,
   "id": "f55fe1f2-64e7-450e-a12a-0c1114424eb0",
   "metadata": {},
   "outputs": [],
   "source": [
    "yolo = YOLO(\"yolo11n-seg.pt\").cuda()\n",
    "summary(yolo)"
   ]
  },
  {
   "cell_type": "code",
   "execution_count": null,
   "id": "f26ca037-441f-4c51-b4c9-5db06f4fe174",
   "metadata": {},
   "outputs": [],
   "source": [
    "results = yolo.train(data=\"fine-tune.yaml\", freeze=9, device=0, batch=0.8, epochs=5)"
   ]
  },
  {
   "cell_type": "code",
   "execution_count": null,
   "id": "7f938183-d8f7-4a22-b94e-970c527f38db",
   "metadata": {},
   "outputs": [],
   "source": [
    "mask = yolo(\"datasets/coco2017/val/images/000000035279.jpg\")[0].masks.xyn[2]\n",
    "plt.figure(figsize=(5, 5))\n",
    "plt.scatter(mask[:, 0], -mask[:, 1])"
   ]
  },
  {
   "cell_type": "code",
   "execution_count": null,
   "id": "b242fee9-568e-4bb2-9975-b5c87a3b2bc6",
   "metadata": {},
   "outputs": [],
   "source": [
    "YOLO(\"yolo11n-seg.pt\")(\"datasets/coco2017/val/images/000000035279.jpg\")[0].show()"
   ]
  },
  {
   "cell_type": "code",
   "execution_count": null,
   "id": "8d0e7095-e3fd-4c4b-9981-49ab7de23c0e",
   "metadata": {},
   "outputs": [],
   "source": [
    "mask = YOLO(\"yolo11n-seg.pt\")(\"2.png\")[0].masks.xy[1]\n",
    "plt.figure(figsize=(5, 10))\n",
    "plt.scatter(mask[:, 0], -mask[:, 1])"
   ]
  },
  {
   "cell_type": "code",
   "execution_count": null,
   "id": "6ab9fdde-3a13-4f17-ae6a-ce02e84835f7",
   "metadata": {},
   "outputs": [],
   "source": []
  }
 ],
 "metadata": {
  "kernelspec": {
   "display_name": "Python 3 (ipykernel)",
   "language": "python",
   "name": "python3"
  },
  "language_info": {
   "codemirror_mode": {
    "name": "ipython",
    "version": 3
   },
   "file_extension": ".py",
   "mimetype": "text/x-python",
   "name": "python",
   "nbconvert_exporter": "python",
   "pygments_lexer": "ipython3",
   "version": "3.12.9"
  }
 },
 "nbformat": 4,
 "nbformat_minor": 5
}
