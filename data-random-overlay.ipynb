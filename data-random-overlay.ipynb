{
 "cells": [
  {
   "cell_type": "code",
   "execution_count": null,
   "id": "af44b2fd-714f-41d0-bbe9-0d8e0855a65a",
   "metadata": {},
   "outputs": [],
   "source": [
    "from pathlib import Path\n",
    "from matplotlib import pyplot as plt\n",
    "from concurrent.futures import ThreadPoolExecutor\n",
    "import numpy as np\n",
    "import shutil\n",
    "import cv2 as cv"
   ]
  },
  {
   "cell_type": "code",
   "execution_count": null,
   "id": "a7baa509-0e22-4b51-8b99-4dbb10550ae5",
   "metadata": {},
   "outputs": [],
   "source": [
    "def equal_ranges(n, total_n):\n",
    "    if total_n < n:\n",
    "        raise ValueError()\n",
    "    range_len = total_n // n\n",
    "    remainder = total_n % n\n",
    "    ranges = [range(range_len * i, range_len * (i + 1)) for i in range(n)]\n",
    "    if remainder > 0:\n",
    "        ranges[-1] = range(range_len * (n - 1), range_len * n + remainder)\n",
    "    return ranges\n",
    "\n",
    "def random_quad(rmin, rmax):\n",
    "    low = 0.5 * (1 - np.random.uniform(low=rmax, high=rmin, size=4))\n",
    "    high = 0.5 * (1 + np.random.uniform(low=rmin, high=rmax, size=4))\n",
    "    return np.array([\n",
    "        [low[0], low[1]], [high[0], low[2]],\n",
    "        [high[2], high[3]], [low[3], high[1]]\n",
    "    ])\n",
    "\n",
    "def normal_to_image(image_shape, points):\n",
    "    h, w, *_ = image_shape\n",
    "    return (points * (w, h)).astype(int)\n",
    "\n",
    "def random_colour(min_, max_):\n",
    "    return np.random.randint(low=min_, high=max_, size=3).tolist()\n",
    "\n",
    "def generate_image(radius_range, colour_range, bg, fg, path, id_):\n",
    "    image = cv.imread(bg)\n",
    "    overlay = cv.resize(cv.imread(fg), image.shape[1::-1])\n",
    "    contour = random_quad(*radius_range)\n",
    "    contour_image = normal_to_image(image.shape, contour)\n",
    "    mask = np.zeros(image.shape, dtype=np.uint8)\n",
    "    mask = cv.drawContours(mask, [contour_image], 0, (255, 255, 255), thickness=-1)\n",
    "    image = cv.bitwise_and(image, cv.bitwise_not(mask)) + cv.bitwise_and(overlay, mask)\n",
    "    image = cv.polylines(image, [contour_image], True, random_colour(*colour_range), thickness=1)\n",
    "    cv.imwrite(path / \"images\" / f\"{id_}.jpeg\", image)\n",
    "    with open(path / \"labels\" / f\"{id_}.txt\", \"w\") as f:\n",
    "        points = map(str, np.ravel(contour).tolist())\n",
    "        f.write(f\"0 {' '.join(points)}\\n\")"
   ]
  },
  {
   "cell_type": "code",
   "execution_count": null,
   "id": "74df14bb-8dd3-4326-81f5-8ba825eabf4b",
   "metadata": {},
   "outputs": [],
   "source": [
    "images = list(Path(\"datasets/coco2017/train/images\").glob(\"*.jpg\"))\n",
    "dataset_path = Path(\"datasets/random-overlay/val\")\n",
    "dataset_num = 2000\n",
    "chunks = 40\n",
    "\n",
    "def generate_images(ids):\n",
    "    for i in ids:\n",
    "        background = images[np.random.randint(0, len(images))]\n",
    "        foreground = images[np.random.randint(0, len(images))]\n",
    "        generate_image((0.2, 0.6), (0, 256), background, foreground, dataset_path, i)\n",
    "\n",
    "if dataset_path.exists():\n",
    "    shutil.rmtree(dataset_path)\n",
    "(dataset_path / \"images\").mkdir(parents=True)\n",
    "(dataset_path / \"labels\").mkdir(parents=True)\n",
    "with ThreadPoolExecutor(max_workers=chunks) as executor:\n",
    "    ranges = equal_ranges(chunks, dataset_num)\n",
    "    futures = [executor.submit(generate_images, r) for r in ranges]\n",
    "    for future in futures:\n",
    "        future.result()"
   ]
  },
  {
   "cell_type": "code",
   "execution_count": null,
   "id": "10e11b37-64ed-4dc7-a896-e639158035d7",
   "metadata": {},
   "outputs": [],
   "source": []
  }
 ],
 "metadata": {
  "kernelspec": {
   "display_name": "Python 3 (ipykernel)",
   "language": "python",
   "name": "python3"
  },
  "language_info": {
   "codemirror_mode": {
    "name": "ipython",
    "version": 3
   },
   "file_extension": ".py",
   "mimetype": "text/x-python",
   "name": "python",
   "nbconvert_exporter": "python",
   "pygments_lexer": "ipython3",
   "version": "3.12.9"
  }
 },
 "nbformat": 4,
 "nbformat_minor": 5
}
