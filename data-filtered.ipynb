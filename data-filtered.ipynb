{
 "cells": [
  {
   "cell_type": "code",
   "execution_count": null,
   "id": "885d5242-55ac-45ad-b511-97a12eaa0e27",
   "metadata": {},
   "outputs": [],
   "source": [
    "from pathlib import Path\n",
    "from matplotlib import pyplot as plt\n",
    "from scipy.spatial.distance import euclidean\n",
    "import numpy as np\n",
    "import seaborn as sns\n",
    "import shutil\n",
    "import cv2 as cv"
   ]
  },
  {
   "cell_type": "code",
   "execution_count": null,
   "id": "a51df60b-3712-4a20-a6e3-017ce09d5dcb",
   "metadata": {},
   "outputs": [],
   "source": [
    "def load_labels(labels, image_shape=None):\n",
    "    \"\"\"\n",
    "    image_shape as in cv2 image\n",
    "    \"\"\"\n",
    "    with open(labels) as f:\n",
    "        labels = f.read()\n",
    "    labels = labels.strip().split(\"\\n\")\n",
    "    labels = [line.strip().split() for line in labels]\n",
    "    segments = []\n",
    "    for line in labels:\n",
    "        class_ = int(line[0])\n",
    "        line = [float(x) for x in line]\n",
    "        points = []\n",
    "        for i in range(1, len(line), 2):\n",
    "            if image_shape:\n",
    "                points.append([image_shape[1] * line[i], image_shape[0] * line[i + 1]])\n",
    "            else:\n",
    "                points.append([line[i], line[i + 1]])\n",
    "        if image_shape:\n",
    "            points = np.array(points, int)\n",
    "        else:\n",
    "            points = np.array(points)\n",
    "        segments.append([class_, points])\n",
    "    return segments\n",
    "\n",
    "def draw_labels(image, labels):\n",
    "    if type(image) == str:\n",
    "        image = cv.imread(image)\n",
    "    if type(labels) == str:\n",
    "        labels = load_labels(labels, image.shape)\n",
    "    for class_, contour in labels:\n",
    "        image = cv.polylines(image, [contour], True, (255, 255, 255))\n",
    "        image = cv.putText(image, str(class_), contour[0], cv.FONT_HERSHEY_SIMPLEX, 0.5, (255, 255, 255))\n",
    "    return image"
   ]
  },
  {
   "cell_type": "code",
   "execution_count": null,
   "id": "9a034dfc-a0dd-4cee-a476-ae787868c854",
   "metadata": {},
   "outputs": [],
   "source": [
    "# Credit: ChatGPT\n",
    "\n",
    "def perpendicular_distance(point, start, end):\n",
    "    \"\"\"Calculate the perpendicular distance from a point to a line segment.\"\"\"\n",
    "    if np.all(start == end):\n",
    "        return euclidean(point, start)\n",
    "    \n",
    "    line_vec = end - start\n",
    "    point_vec = point - start\n",
    "    line_len = np.dot(line_vec, line_vec)\n",
    "    t = max(0, min(1, np.dot(point_vec, line_vec) / line_len))\n",
    "    projection = start + t * line_vec\n",
    "    return euclidean(point, projection)\n",
    "\n",
    "def rdp(contour, epsilon):\n",
    "    \"\"\"\n",
    "    Applies the Ramer-Douglas-Peucker (RDP) algorithm to simplify a contour.\n",
    "    \n",
    "    Parameters:\n",
    "        contour (np.ndarray): A Nx2 array of (x, y) coordinates.\n",
    "        epsilon (float): Tolerance for point reduction (higher -> more aggressive).\n",
    "    \n",
    "    Returns:\n",
    "        np.ndarray: Simplified contour as a Nx2 array.\n",
    "    \"\"\"\n",
    "    if len(contour) < 3:\n",
    "        return contour\n",
    "\n",
    "    # Find the point with the maximum perpendicular distance\n",
    "    start, end = contour[0], contour[-1]\n",
    "    distances = np.array([perpendicular_distance(p, start, end) for p in contour[1:-1]])\n",
    "    \n",
    "    max_idx = np.argmax(distances)\n",
    "    max_dist = distances[max_idx]\n",
    "    \n",
    "    if max_dist > epsilon:\n",
    "        max_idx += 1  # Offset for skipping the first point\n",
    "        # Recursive RDP on both segments\n",
    "        left = rdp(contour[:max_idx+1], epsilon)\n",
    "        right = rdp(contour[max_idx:], epsilon)\n",
    "        return np.vstack((left[:-1], right))\n",
    "    else:\n",
    "        return np.array([start, end])"
   ]
  },
  {
   "cell_type": "code",
   "execution_count": null,
   "id": "65ad723a-c763-4aa8-ac03-cc44388f9e59",
   "metadata": {},
   "outputs": [],
   "source": [
    "labels = []\n",
    "for class_, contour in load_labels(\"datasets/coco2017/val/labels/000000000632.txt\"):\n",
    "    contour = rdp(contour, 0.05)\n",
    "    labels.append([class_, contour])\n",
    "# plt.imshow(draw_labels(\"datasets/coco2017/val/images/000000000632.jpg\", labels))"
   ]
  },
  {
   "cell_type": "code",
   "execution_count": null,
   "id": "bfe79052-4d9a-461c-8e39-0bd6f3122c15",
   "metadata": {},
   "outputs": [],
   "source": []
  }
 ],
 "metadata": {
  "kernelspec": {
   "display_name": "Python 3 (ipykernel)",
   "language": "python",
   "name": "python3"
  },
  "language_info": {
   "codemirror_mode": {
    "name": "ipython",
    "version": 3
   },
   "file_extension": ".py",
   "mimetype": "text/x-python",
   "name": "python",
   "nbconvert_exporter": "python",
   "pygments_lexer": "ipython3",
   "version": "3.12.9"
  }
 },
 "nbformat": 4,
 "nbformat_minor": 5
}
